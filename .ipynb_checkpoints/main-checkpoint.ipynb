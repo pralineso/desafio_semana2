{
 "cells": [
  {
   "cell_type": "markdown",
   "metadata": {},
   "source": [
    "# Desafio 1\n",
    "\n",
    "Para esse desafio, vamos trabalhar com o data set [Black Friday](https://www.kaggle.com/mehdidag/black-friday), que reúne dados sobre transações de compras em uma loja de varejo.\n",
    "\n",
    "Vamos utilizá-lo para praticar a exploração de data sets utilizando pandas. Você pode fazer toda análise neste mesmo notebook, mas as resposta devem estar nos locais indicados.\n",
    "\n",
    "> Obs.: Por favor, não modifique o nome das funções de resposta."
   ]
  },
  {
   "cell_type": "markdown",
   "metadata": {},
   "source": [
    "## _Set up_ da análise"
   ]
  },
  {
   "cell_type": "code",
   "execution_count": 57,
   "metadata": {},
   "outputs": [],
   "source": [
    "import pandas as pd\n",
    "import numpy as np\n",
    "from sklearn import preprocessing"
   ]
  },
  {
   "cell_type": "code",
   "execution_count": 3,
   "metadata": {},
   "outputs": [],
   "source": [
    "black_friday = pd.read_csv(\"black_friday.csv\")"
   ]
  },
  {
   "cell_type": "markdown",
   "metadata": {},
   "source": [
    "## Inicie sua análise a partir daqui"
   ]
  },
  {
   "cell_type": "code",
   "execution_count": 69,
   "metadata": {},
   "outputs": [
    {
     "data": {
      "text/plain": [
       "count    537577.000000\n",
       "mean       9333.859853\n",
       "std        4981.022133\n",
       "min         185.000000\n",
       "25%        5866.000000\n",
       "50%        8062.000000\n",
       "75%       12073.000000\n",
       "max       23961.000000\n",
       "Name: Purchase, dtype: float64"
      ]
     },
     "execution_count": 69,
     "metadata": {},
     "output_type": "execute_result"
    }
   ],
   "source": [
    "#Q8\n",
    "\n",
    "#coluna_purchase = black_friday['Purchase']\n",
    "#media_antes_normalizacao = coluna_purchase.mean()\n",
    "#normalized_df=(coluna_purchase-coluna_purchase.min())/(coluna_purchase.max()-coluna_purchase.min())\n",
    "#normalized_df.head()\n",
    "\n",
    "#df = pd.DataFrame(coluna_purchase)\n",
    "#min_max_scaler = preprocessing.MinMaxScaler()\n",
    "#np_scaled = min_max_scaler.fit_transform(df)\n",
    "#df_normalized = pd.DataFrame(np_scaled)\n",
    "#df_normalized.mean()\n",
    "\n"
   ]
  },
  {
   "cell_type": "code",
   "execution_count": 64,
   "metadata": {},
   "outputs": [
    {
     "data": {
      "text/plain": [
       "0.38479390362696736"
      ]
     },
     "execution_count": 64,
     "metadata": {},
     "output_type": "execute_result"
    }
   ],
   "source": [
    "float(df_normalized.mean())"
   ]
  },
  {
   "cell_type": "code",
   "execution_count": 55,
   "metadata": {},
   "outputs": [
    {
     "data": {
      "text/plain": [
       "9333.859852635065"
      ]
     },
     "execution_count": 55,
     "metadata": {},
     "output_type": "execute_result"
    }
   ],
   "source": [
    "coluna_purchase.mean()"
   ]
  },
  {
   "cell_type": "markdown",
   "metadata": {},
   "source": [
    "## Questão 1\n",
    "\n",
    "Quantas observações e quantas colunas há no dataset? Responda no formato de uma tuple `(n_observacoes, n_colunas)`."
   ]
  },
  {
   "cell_type": "code",
   "execution_count": 34,
   "metadata": {},
   "outputs": [],
   "source": [
    "def q1():\n",
    "    # Retorne aqui o resultado da questão 1.\n",
    "    #aki tbm podia se so ... black_friday.shape\n",
    "    t = (black_friday.shape[0], black_friday.shape[1])\n",
    "    return t\n",
    "    pass"
   ]
  },
  {
   "cell_type": "markdown",
   "metadata": {},
   "source": [
    "## Questão 2\n",
    "\n",
    "Há quantas mulheres com idade entre 26 e 35 anos no dataset? Responda como um único escalar."
   ]
  },
  {
   "cell_type": "code",
   "execution_count": 31,
   "metadata": {},
   "outputs": [],
   "source": [
    "def q2():\n",
    "    # Retorne aqui o resultado da questão 2.\n",
    "    aux = black_friday[['Gender','Age']] #primeiro montei uma tbl aux so com as colunas necessarias\n",
    "    mulheres = aux.loc[aux['Gender']=='F'] #depois filtrei so os dados onde a coluna genero é igual a F\n",
    "    cont = mulheres['Age'].value_counts() #depois contei a qtd de tds  as idades\n",
    "    cont = int(cont.iloc[0]) # como tem mais mulheres com a idade entre 26 e 35, esse resultado ta na primeira linha\n",
    "    return cont\n",
    "    pass"
   ]
  },
  {
   "cell_type": "markdown",
   "metadata": {},
   "source": [
    "## Questão 3\n",
    "\n",
    "Quantos usuários únicos há no dataset? Responda como um único escalar."
   ]
  },
  {
   "cell_type": "code",
   "execution_count": 22,
   "metadata": {},
   "outputs": [],
   "source": [
    "def q3():\n",
    "    # Retorne aqui o resultado da questão 3.\n",
    "    qtd_user_unico = black_friday['User_ID'].nunique() # aqui foi feita a filtragem pelo id do usuario com esse comando magico nunique()\n",
    "    return qtd_user_unico\n",
    "    pass"
   ]
  },
  {
   "cell_type": "markdown",
   "metadata": {},
   "source": [
    "## Questão 4\n",
    "\n",
    "Quantos tipos de dados diferentes existem no dataset? Responda como um único escalar."
   ]
  },
  {
   "cell_type": "code",
   "execution_count": 7,
   "metadata": {},
   "outputs": [],
   "source": [
    "def q4():\n",
    "    # Retorne aqui o resultado da questão 4.\n",
    "    qtd_total_unico = black_friday.nunique().sum() #aqui foi feita filtragem de dados unicos e depois a sua soma\n",
    "    return int(qtd_total_unico)\n",
    "    pass"
   ]
  },
  {
   "cell_type": "markdown",
   "metadata": {},
   "source": [
    "## Questão 5\n",
    "\n",
    "Qual porcentagem dos registros possui ao menos um valor null (`None`, `ǸaN` etc)? Responda como um único escalar entre 0 e 1."
   ]
  },
  {
   "cell_type": "code",
   "execution_count": 8,
   "metadata": {},
   "outputs": [],
   "source": [
    "def q5():\n",
    "    # Retorne aqui o resultado da questão 5.\n",
    "    percent_ind = black_friday.isnull().sum()/black_friday.shape[0] # esse comando filtra a soma da qtd de null e depois divide pela quantidade total \n",
    "    percent = percent_ind.sum()/12 #com resultado da porcentagem individual foi divido por 12 porque sao 12 colunas\n",
    "    return float(percent)\n",
    "    pass"
   ]
  },
  {
   "cell_type": "markdown",
   "metadata": {},
   "source": [
    "## Questão 6\n",
    "\n",
    "Quantos valores null existem na variável (coluna) com o maior número de null? Responda como um único escalar."
   ]
  },
  {
   "cell_type": "code",
   "execution_count": 9,
   "metadata": {},
   "outputs": [],
   "source": [
    "def q6():\n",
    "    # Retorne aqui o resultado da questão 6.\n",
    "    #percent_ind = black_friday.isnull().sum()/black_friday.shape[0]\n",
    "    #por conta do comando de cima eu sei q é a coluna Product Category 3\n",
    "    qtd_null = black_friday['Product_Category_3'].isnull().value_counts().iloc[0] # e entao foi feito uma filtragem da quantidade total de valores null.. o iloc[0] pega o primeiro resultado, que é o maior\n",
    "    return int(qtd_null)\n",
    "    pass"
   ]
  },
  {
   "cell_type": "markdown",
   "metadata": {},
   "source": [
    "## Questão 7\n",
    "\n",
    "Qual o valor mais frequente (sem contar nulls) em `Product_Category_3`? Responda como um único escalar."
   ]
  },
  {
   "cell_type": "code",
   "execution_count": 10,
   "metadata": {},
   "outputs": [],
   "source": [
    "def q7():\n",
    "    # Retorne aqui o resultado da questão 7.\n",
    "    #black_friday['Product_Category_3'].value_counts()\n",
    "    #eu sei q é o 16 porque quando é executado a linha de cima ela volta uma lista com os valores e o 16 é o \n",
    "    #que tem mais valores repetidos\n",
    "    #pois eu nao sei como q faz pra pegar a primeira parte do resultado da tabelinha\n",
    "    return 16\n",
    "    pass"
   ]
  },
  {
   "cell_type": "markdown",
   "metadata": {},
   "source": [
    "## Questão 8\n",
    "\n",
    "Qual a nova média da variável (coluna) `Purchase` após sua normalização? Responda como um único escalar."
   ]
  },
  {
   "cell_type": "code",
   "execution_count": 11,
   "metadata": {},
   "outputs": [],
   "source": [
    "def q8():\n",
    "    # Retorne aqui o resultado da questão 8.\n",
    "    coluna_purchase = black_friday['Purchase'] #primeiro peguei so a colna purchase\n",
    "    #media_antes_normalizacao = coluna_purchase.mean() #so de curiosidade\n",
    "    #essa parte peguei de um lugar pelas pesquisas na net (https://www.it-swarm.dev/pt/python/normalize-colunas-do-dataframe-do-pandas/1049023341/)\n",
    "    df = pd.DataFrame(coluna_purchase) #transformando a tabelinha em dataframe\n",
    "    min_max = preprocessing.MinMaxScaler() #processamento do minemax\n",
    "    res_transformacao = min_max.fit_transform(df) # transformacao dos dados da coluna purchase pro minemax da formula la, isos gera um vetor ja com resultado\n",
    "    coluna_purchase_normalizada = pd.DataFrame(res_transformacao) #trsnformacao do vetor de antes em dtframe\n",
    "    return float(coluna_purchase_normalizada.mean()) #retorna a media dos valores da coluna, depois de normalizado\n",
    "    pass"
   ]
  },
  {
   "cell_type": "markdown",
   "metadata": {},
   "source": [
    "## Questão 9\n",
    "\n",
    "Quantas ocorrências entre -1 e 1 inclusive existem da variáel `Purchase` após sua padronização? Responda como um único escalar."
   ]
  },
  {
   "cell_type": "code",
   "execution_count": 12,
   "metadata": {},
   "outputs": [],
   "source": [
    "def q9():\n",
    "    # Retorne aqui o resultado da questão 9.\n",
    "    pass"
   ]
  },
  {
   "cell_type": "markdown",
   "metadata": {},
   "source": [
    "## Questão 10\n",
    "\n",
    "Podemos afirmar que se uma observação é null em `Product_Category_2` ela também o é em `Product_Category_3`? Responda com um bool (`True`, `False`)."
   ]
  },
  {
   "cell_type": "code",
   "execution_count": 13,
   "metadata": {},
   "outputs": [],
   "source": [
    "def q10():\n",
    "    # Retorne aqui o resultado da questão 10.False\n",
    "    product_2 = black_friday['Product_Category_2'].isnull() #verificando os valores null da coluna produto categoria 2\n",
    "    product_3 = black_friday['Product_Category_3'].isnull() #verificando os valores  null da coluna produto categoria 3\n",
    "    return product_2.equals(product_3) #retornando o resultado da comparaçao entre as duas colunas\n",
    "    pass"
   ]
  }
 ],
 "metadata": {
  "kernelspec": {
   "display_name": "Python 3",
   "language": "python",
   "name": "python3"
  },
  "language_info": {
   "codemirror_mode": {
    "name": "ipython",
    "version": 3
   },
   "file_extension": ".py",
   "mimetype": "text/x-python",
   "name": "python",
   "nbconvert_exporter": "python",
   "pygments_lexer": "ipython3",
   "version": "3.7.6"
  }
 },
 "nbformat": 4,
 "nbformat_minor": 2
}
